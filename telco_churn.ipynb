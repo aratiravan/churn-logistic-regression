{
  "cells": [
    {
      "cell_type": "code",
      "source": [
        "import pandas as pd\n",
        "import numpy as np\n",
        "df= pd.read_csv('Telco-Customer-Churn.csv')\n",
        "#df.head()\n",
        "#print(df.columns.tolist())\n",
        "df.drop('customerID',axis=1,inplace=True)\n",
        "df['Churn']=df['Churn'].map({'Yes':1,'No':0})\n",
        "df['TotalCharges']=pd.to_numeric(df['TotalCharges'],errors='coerce')\n",
        "df.dropna(inplace=True)\n",
        "df=pd.get_dummies(df,drop_first=True)\n",
        "X=df.drop('Churn',axis=1)\n",
        "y=df['Churn']\n",
        "from sklearn.preprocessing import StandardScaler\n",
        "from sklearn.model_selection import train_test_split\n",
        "from sklearn.linear_model import LogisticRegression\n",
        "from sklearn.metrics import accuracy_score, classification_report\n",
        "scaler = StandardScaler()\n",
        "# Split data\n",
        "X_train, X_test, y_train, y_test = train_test_split(X, y, test_size=0.2, random_state=42)\n",
        "X_train_scaled = scaler.fit_transform(X_train)\n",
        "X_test_scaled = scaler.transform(X_test)\n",
        "# Train model\n",
        "model = LogisticRegression(solver='liblinear',max_iter=500,random_state=42)\n",
        "model.fit(X_train, y_train)\n",
        "# Predict\n",
        "#y_pred = model.predict(X_test)\n",
        "model.fit(X_train_scaled, y_train)\n",
        "y_pred = model.predict(X_test_scaled)\n",
        "\n",
        "# Evaluate\n",
        "print(\"Accuracy:\", accuracy_score(y_test, y_pred))\n",
        "print(classification_report(y_test, y_pred))\n",
        "import joblib\n",
        "joblib.dump(model,'churn_model.pkl')\n",
        "df.to_csv('churn_cleaned.csv',index=False)"
      ],
      "outputs": [
        {
          "output_type": "stream",
          "name": "stdout",
          "text": "Accuracy: 0.7867803837953091\n              precision    recall  f1-score   support\n\n           0       0.83      0.88      0.86      1033\n           1       0.62      0.52      0.56       374\n\n    accuracy                           0.79      1407\n   macro avg       0.73      0.70      0.71      1407\nweighted avg       0.78      0.79      0.78      1407\n\n"
        }
      ],
      "execution_count": 23,
      "metadata": {
        "gather": {
          "logged": 1748015148721
        }
      }
    }
  ],
  "metadata": {
    "kernelspec": {
      "name": "python310-sdkv2",
      "language": "python",
      "display_name": "Python 3.10 - SDK v2"
    },
    "language_info": {
      "name": "python",
      "version": "3.10.16",
      "mimetype": "text/x-python",
      "codemirror_mode": {
        "name": "ipython",
        "version": 3
      },
      "pygments_lexer": "ipython3",
      "nbconvert_exporter": "python",
      "file_extension": ".py"
    },
    "microsoft": {
      "ms_spell_check": {
        "ms_spell_check_language": "en"
      }
    },
    "kernel_info": {
      "name": "python310-sdkv2"
    },
    "nteract": {
      "version": "nteract-front-end@1.0.0"
    }
  },
  "nbformat": 4,
  "nbformat_minor": 2
}